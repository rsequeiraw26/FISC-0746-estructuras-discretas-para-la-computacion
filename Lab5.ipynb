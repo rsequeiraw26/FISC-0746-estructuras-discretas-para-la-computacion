{
  "nbformat": 4,
  "nbformat_minor": 0,
  "metadata": {
    "colab": {
      "name": "Lab5.ipynb",
      "version": "0.3.2",
      "provenance": []
    },
    "kernelspec": {
      "name": "python3",
      "display_name": "Python 3"
    }
  },
  "cells": [
    {
      "cell_type": "code",
      "metadata": {
        "id": "lUE7bo-oT7kQ",
        "colab_type": "code",
        "colab": {}
      },
      "source": [
        "n=5"
      ],
      "execution_count": 0,
      "outputs": []
    },
    {
      "cell_type": "code",
      "metadata": {
        "id": "6yMVxDxeWPaj",
        "colab_type": "code",
        "colab": {}
      },
      "source": [
        "def factorial (n):\n",
        "  if n>1:\n",
        "    return n * factorial(n-1)\n",
        "    \n",
        "  else:\n",
        "    return 1"
      ],
      "execution_count": 0,
      "outputs": []
    },
    {
      "cell_type": "code",
      "metadata": {
        "id": "WuEiEQ1bW3Hv",
        "colab_type": "code",
        "colab": {
          "base_uri": "https://localhost:8080/",
          "height": 34
        },
        "outputId": "79bf9c6c-903c-4a04-9a01-c596b5561ac4"
      },
      "source": [
        "factorial(n)"
      ],
      "execution_count": 53,
      "outputs": [
        {
          "output_type": "execute_result",
          "data": {
            "text/plain": [
              "120"
            ]
          },
          "metadata": {
            "tags": []
          },
          "execution_count": 53
        }
      ]
    },
    {
      "cell_type": "code",
      "metadata": {
        "id": "bEPBia_6YqSA",
        "colab_type": "code",
        "colab": {
          "base_uri": "https://localhost:8080/",
          "height": 34
        },
        "outputId": "6a854bce-5ade-4cfc-f62a-5eae1f12d297"
      },
      "source": [
        "import itertools\n",
        "list(itertools.combinations(range(3), 2))"
      ],
      "execution_count": 57,
      "outputs": [
        {
          "output_type": "execute_result",
          "data": {
            "text/plain": [
              "[(0, 1), (0, 2), (1, 2)]"
            ]
          },
          "metadata": {
            "tags": []
          },
          "execution_count": 57
        }
      ]
    },
    {
      "cell_type": "code",
      "metadata": {
        "id": "12LrR0sbbZVP",
        "colab_type": "code",
        "colab": {
          "base_uri": "https://localhost:8080/",
          "height": 34
        },
        "outputId": "666045c6-9e8f-4967-8fab-a99efcc71ef8"
      },
      "source": [
        "list(itertools.combinations_with_replacement(range(3), 2))"
      ],
      "execution_count": 59,
      "outputs": [
        {
          "output_type": "execute_result",
          "data": {
            "text/plain": [
              "[(0, 0), (0, 1), (0, 2), (1, 1), (1, 2), (2, 2)]"
            ]
          },
          "metadata": {
            "tags": []
          },
          "execution_count": 59
        }
      ]
    },
    {
      "cell_type": "code",
      "metadata": {
        "id": "UHi4HiLFcxfw",
        "colab_type": "code",
        "colab": {
          "base_uri": "https://localhost:8080/",
          "height": 2465
        },
        "outputId": "7de1f8a9-2bce-4d21-e48e-cce1ed560dd5"
      },
      "source": [
        "c= itertools.product(('Porto','Roma','Manchester','Schalke','Bayer','Liver','Manchester United','PSG','Juve','Atletico','Perdedores','Lyon'),repeat=2)\n",
        "list(c)"
      ],
      "execution_count": 66,
      "outputs": [
        {
          "output_type": "execute_result",
          "data": {
            "text/plain": [
              "[('Porto', 'Porto'),\n",
              " ('Porto', 'Roma'),\n",
              " ('Porto', 'Manchester'),\n",
              " ('Porto', 'Schalke'),\n",
              " ('Porto', 'Bayer'),\n",
              " ('Porto', 'Liver'),\n",
              " ('Porto', 'Manchester United'),\n",
              " ('Porto', 'PSG'),\n",
              " ('Porto', 'Juve'),\n",
              " ('Porto', 'Atletico'),\n",
              " ('Porto', 'Perdedores'),\n",
              " ('Porto', 'Lyon'),\n",
              " ('Roma', 'Porto'),\n",
              " ('Roma', 'Roma'),\n",
              " ('Roma', 'Manchester'),\n",
              " ('Roma', 'Schalke'),\n",
              " ('Roma', 'Bayer'),\n",
              " ('Roma', 'Liver'),\n",
              " ('Roma', 'Manchester United'),\n",
              " ('Roma', 'PSG'),\n",
              " ('Roma', 'Juve'),\n",
              " ('Roma', 'Atletico'),\n",
              " ('Roma', 'Perdedores'),\n",
              " ('Roma', 'Lyon'),\n",
              " ('Manchester', 'Porto'),\n",
              " ('Manchester', 'Roma'),\n",
              " ('Manchester', 'Manchester'),\n",
              " ('Manchester', 'Schalke'),\n",
              " ('Manchester', 'Bayer'),\n",
              " ('Manchester', 'Liver'),\n",
              " ('Manchester', 'Manchester United'),\n",
              " ('Manchester', 'PSG'),\n",
              " ('Manchester', 'Juve'),\n",
              " ('Manchester', 'Atletico'),\n",
              " ('Manchester', 'Perdedores'),\n",
              " ('Manchester', 'Lyon'),\n",
              " ('Schalke', 'Porto'),\n",
              " ('Schalke', 'Roma'),\n",
              " ('Schalke', 'Manchester'),\n",
              " ('Schalke', 'Schalke'),\n",
              " ('Schalke', 'Bayer'),\n",
              " ('Schalke', 'Liver'),\n",
              " ('Schalke', 'Manchester United'),\n",
              " ('Schalke', 'PSG'),\n",
              " ('Schalke', 'Juve'),\n",
              " ('Schalke', 'Atletico'),\n",
              " ('Schalke', 'Perdedores'),\n",
              " ('Schalke', 'Lyon'),\n",
              " ('Bayer', 'Porto'),\n",
              " ('Bayer', 'Roma'),\n",
              " ('Bayer', 'Manchester'),\n",
              " ('Bayer', 'Schalke'),\n",
              " ('Bayer', 'Bayer'),\n",
              " ('Bayer', 'Liver'),\n",
              " ('Bayer', 'Manchester United'),\n",
              " ('Bayer', 'PSG'),\n",
              " ('Bayer', 'Juve'),\n",
              " ('Bayer', 'Atletico'),\n",
              " ('Bayer', 'Perdedores'),\n",
              " ('Bayer', 'Lyon'),\n",
              " ('Liver', 'Porto'),\n",
              " ('Liver', 'Roma'),\n",
              " ('Liver', 'Manchester'),\n",
              " ('Liver', 'Schalke'),\n",
              " ('Liver', 'Bayer'),\n",
              " ('Liver', 'Liver'),\n",
              " ('Liver', 'Manchester United'),\n",
              " ('Liver', 'PSG'),\n",
              " ('Liver', 'Juve'),\n",
              " ('Liver', 'Atletico'),\n",
              " ('Liver', 'Perdedores'),\n",
              " ('Liver', 'Lyon'),\n",
              " ('Manchester United', 'Porto'),\n",
              " ('Manchester United', 'Roma'),\n",
              " ('Manchester United', 'Manchester'),\n",
              " ('Manchester United', 'Schalke'),\n",
              " ('Manchester United', 'Bayer'),\n",
              " ('Manchester United', 'Liver'),\n",
              " ('Manchester United', 'Manchester United'),\n",
              " ('Manchester United', 'PSG'),\n",
              " ('Manchester United', 'Juve'),\n",
              " ('Manchester United', 'Atletico'),\n",
              " ('Manchester United', 'Perdedores'),\n",
              " ('Manchester United', 'Lyon'),\n",
              " ('PSG', 'Porto'),\n",
              " ('PSG', 'Roma'),\n",
              " ('PSG', 'Manchester'),\n",
              " ('PSG', 'Schalke'),\n",
              " ('PSG', 'Bayer'),\n",
              " ('PSG', 'Liver'),\n",
              " ('PSG', 'Manchester United'),\n",
              " ('PSG', 'PSG'),\n",
              " ('PSG', 'Juve'),\n",
              " ('PSG', 'Atletico'),\n",
              " ('PSG', 'Perdedores'),\n",
              " ('PSG', 'Lyon'),\n",
              " ('Juve', 'Porto'),\n",
              " ('Juve', 'Roma'),\n",
              " ('Juve', 'Manchester'),\n",
              " ('Juve', 'Schalke'),\n",
              " ('Juve', 'Bayer'),\n",
              " ('Juve', 'Liver'),\n",
              " ('Juve', 'Manchester United'),\n",
              " ('Juve', 'PSG'),\n",
              " ('Juve', 'Juve'),\n",
              " ('Juve', 'Atletico'),\n",
              " ('Juve', 'Perdedores'),\n",
              " ('Juve', 'Lyon'),\n",
              " ('Atletico', 'Porto'),\n",
              " ('Atletico', 'Roma'),\n",
              " ('Atletico', 'Manchester'),\n",
              " ('Atletico', 'Schalke'),\n",
              " ('Atletico', 'Bayer'),\n",
              " ('Atletico', 'Liver'),\n",
              " ('Atletico', 'Manchester United'),\n",
              " ('Atletico', 'PSG'),\n",
              " ('Atletico', 'Juve'),\n",
              " ('Atletico', 'Atletico'),\n",
              " ('Atletico', 'Perdedores'),\n",
              " ('Atletico', 'Lyon'),\n",
              " ('Perdedores', 'Porto'),\n",
              " ('Perdedores', 'Roma'),\n",
              " ('Perdedores', 'Manchester'),\n",
              " ('Perdedores', 'Schalke'),\n",
              " ('Perdedores', 'Bayer'),\n",
              " ('Perdedores', 'Liver'),\n",
              " ('Perdedores', 'Manchester United'),\n",
              " ('Perdedores', 'PSG'),\n",
              " ('Perdedores', 'Juve'),\n",
              " ('Perdedores', 'Atletico'),\n",
              " ('Perdedores', 'Perdedores'),\n",
              " ('Perdedores', 'Lyon'),\n",
              " ('Lyon', 'Porto'),\n",
              " ('Lyon', 'Roma'),\n",
              " ('Lyon', 'Manchester'),\n",
              " ('Lyon', 'Schalke'),\n",
              " ('Lyon', 'Bayer'),\n",
              " ('Lyon', 'Liver'),\n",
              " ('Lyon', 'Manchester United'),\n",
              " ('Lyon', 'PSG'),\n",
              " ('Lyon', 'Juve'),\n",
              " ('Lyon', 'Atletico'),\n",
              " ('Lyon', 'Perdedores'),\n",
              " ('Lyon', 'Lyon')]"
            ]
          },
          "metadata": {
            "tags": []
          },
          "execution_count": 66
        }
      ]
    },
    {
      "cell_type": "code",
      "metadata": {
        "id": "R06wAha-dgtA",
        "colab_type": "code",
        "colab": {
          "base_uri": "https://localhost:8080/",
          "height": 2261
        },
        "outputId": "15a6e86f-66aa-41c6-98dc-d91a70ec3079"
      },
      "source": [
        "c= itertools.permutations(('Porto','Roma','Manchester','Schalke','Bayer','Liver','Manchester United','PSG','Juve','Atletico','Perdedores','Lyon'),2)\n",
        "list(c)"
      ],
      "execution_count": 68,
      "outputs": [
        {
          "output_type": "execute_result",
          "data": {
            "text/plain": [
              "[('Porto', 'Roma'),\n",
              " ('Porto', 'Manchester'),\n",
              " ('Porto', 'Schalke'),\n",
              " ('Porto', 'Bayer'),\n",
              " ('Porto', 'Liver'),\n",
              " ('Porto', 'Manchester United'),\n",
              " ('Porto', 'PSG'),\n",
              " ('Porto', 'Juve'),\n",
              " ('Porto', 'Atletico'),\n",
              " ('Porto', 'Perdedores'),\n",
              " ('Porto', 'Lyon'),\n",
              " ('Roma', 'Porto'),\n",
              " ('Roma', 'Manchester'),\n",
              " ('Roma', 'Schalke'),\n",
              " ('Roma', 'Bayer'),\n",
              " ('Roma', 'Liver'),\n",
              " ('Roma', 'Manchester United'),\n",
              " ('Roma', 'PSG'),\n",
              " ('Roma', 'Juve'),\n",
              " ('Roma', 'Atletico'),\n",
              " ('Roma', 'Perdedores'),\n",
              " ('Roma', 'Lyon'),\n",
              " ('Manchester', 'Porto'),\n",
              " ('Manchester', 'Roma'),\n",
              " ('Manchester', 'Schalke'),\n",
              " ('Manchester', 'Bayer'),\n",
              " ('Manchester', 'Liver'),\n",
              " ('Manchester', 'Manchester United'),\n",
              " ('Manchester', 'PSG'),\n",
              " ('Manchester', 'Juve'),\n",
              " ('Manchester', 'Atletico'),\n",
              " ('Manchester', 'Perdedores'),\n",
              " ('Manchester', 'Lyon'),\n",
              " ('Schalke', 'Porto'),\n",
              " ('Schalke', 'Roma'),\n",
              " ('Schalke', 'Manchester'),\n",
              " ('Schalke', 'Bayer'),\n",
              " ('Schalke', 'Liver'),\n",
              " ('Schalke', 'Manchester United'),\n",
              " ('Schalke', 'PSG'),\n",
              " ('Schalke', 'Juve'),\n",
              " ('Schalke', 'Atletico'),\n",
              " ('Schalke', 'Perdedores'),\n",
              " ('Schalke', 'Lyon'),\n",
              " ('Bayer', 'Porto'),\n",
              " ('Bayer', 'Roma'),\n",
              " ('Bayer', 'Manchester'),\n",
              " ('Bayer', 'Schalke'),\n",
              " ('Bayer', 'Liver'),\n",
              " ('Bayer', 'Manchester United'),\n",
              " ('Bayer', 'PSG'),\n",
              " ('Bayer', 'Juve'),\n",
              " ('Bayer', 'Atletico'),\n",
              " ('Bayer', 'Perdedores'),\n",
              " ('Bayer', 'Lyon'),\n",
              " ('Liver', 'Porto'),\n",
              " ('Liver', 'Roma'),\n",
              " ('Liver', 'Manchester'),\n",
              " ('Liver', 'Schalke'),\n",
              " ('Liver', 'Bayer'),\n",
              " ('Liver', 'Manchester United'),\n",
              " ('Liver', 'PSG'),\n",
              " ('Liver', 'Juve'),\n",
              " ('Liver', 'Atletico'),\n",
              " ('Liver', 'Perdedores'),\n",
              " ('Liver', 'Lyon'),\n",
              " ('Manchester United', 'Porto'),\n",
              " ('Manchester United', 'Roma'),\n",
              " ('Manchester United', 'Manchester'),\n",
              " ('Manchester United', 'Schalke'),\n",
              " ('Manchester United', 'Bayer'),\n",
              " ('Manchester United', 'Liver'),\n",
              " ('Manchester United', 'PSG'),\n",
              " ('Manchester United', 'Juve'),\n",
              " ('Manchester United', 'Atletico'),\n",
              " ('Manchester United', 'Perdedores'),\n",
              " ('Manchester United', 'Lyon'),\n",
              " ('PSG', 'Porto'),\n",
              " ('PSG', 'Roma'),\n",
              " ('PSG', 'Manchester'),\n",
              " ('PSG', 'Schalke'),\n",
              " ('PSG', 'Bayer'),\n",
              " ('PSG', 'Liver'),\n",
              " ('PSG', 'Manchester United'),\n",
              " ('PSG', 'Juve'),\n",
              " ('PSG', 'Atletico'),\n",
              " ('PSG', 'Perdedores'),\n",
              " ('PSG', 'Lyon'),\n",
              " ('Juve', 'Porto'),\n",
              " ('Juve', 'Roma'),\n",
              " ('Juve', 'Manchester'),\n",
              " ('Juve', 'Schalke'),\n",
              " ('Juve', 'Bayer'),\n",
              " ('Juve', 'Liver'),\n",
              " ('Juve', 'Manchester United'),\n",
              " ('Juve', 'PSG'),\n",
              " ('Juve', 'Atletico'),\n",
              " ('Juve', 'Perdedores'),\n",
              " ('Juve', 'Lyon'),\n",
              " ('Atletico', 'Porto'),\n",
              " ('Atletico', 'Roma'),\n",
              " ('Atletico', 'Manchester'),\n",
              " ('Atletico', 'Schalke'),\n",
              " ('Atletico', 'Bayer'),\n",
              " ('Atletico', 'Liver'),\n",
              " ('Atletico', 'Manchester United'),\n",
              " ('Atletico', 'PSG'),\n",
              " ('Atletico', 'Juve'),\n",
              " ('Atletico', 'Perdedores'),\n",
              " ('Atletico', 'Lyon'),\n",
              " ('Perdedores', 'Porto'),\n",
              " ('Perdedores', 'Roma'),\n",
              " ('Perdedores', 'Manchester'),\n",
              " ('Perdedores', 'Schalke'),\n",
              " ('Perdedores', 'Bayer'),\n",
              " ('Perdedores', 'Liver'),\n",
              " ('Perdedores', 'Manchester United'),\n",
              " ('Perdedores', 'PSG'),\n",
              " ('Perdedores', 'Juve'),\n",
              " ('Perdedores', 'Atletico'),\n",
              " ('Perdedores', 'Lyon'),\n",
              " ('Lyon', 'Porto'),\n",
              " ('Lyon', 'Roma'),\n",
              " ('Lyon', 'Manchester'),\n",
              " ('Lyon', 'Schalke'),\n",
              " ('Lyon', 'Bayer'),\n",
              " ('Lyon', 'Liver'),\n",
              " ('Lyon', 'Manchester United'),\n",
              " ('Lyon', 'PSG'),\n",
              " ('Lyon', 'Juve'),\n",
              " ('Lyon', 'Atletico'),\n",
              " ('Lyon', 'Perdedores')]"
            ]
          },
          "metadata": {
            "tags": []
          },
          "execution_count": 68
        }
      ]
    },
    {
      "cell_type": "code",
      "metadata": {
        "id": "CHuKxh_Bdl4Q",
        "colab_type": "code",
        "colab": {
          "base_uri": "https://localhost:8080/",
          "height": 1139
        },
        "outputId": "a718460f-4671-45bb-cb5e-47622b79fe32"
      },
      "source": [
        "c= itertools.combinations(('Porto','Roma','Manchester','Schalke','Bayer','Liver','Manchester United','PSG','Juve','Atletico','Perdedores','Lyon'),2)\n",
        "list(c)"
      ],
      "execution_count": 69,
      "outputs": [
        {
          "output_type": "execute_result",
          "data": {
            "text/plain": [
              "[('Porto', 'Roma'),\n",
              " ('Porto', 'Manchester'),\n",
              " ('Porto', 'Schalke'),\n",
              " ('Porto', 'Bayer'),\n",
              " ('Porto', 'Liver'),\n",
              " ('Porto', 'Manchester United'),\n",
              " ('Porto', 'PSG'),\n",
              " ('Porto', 'Juve'),\n",
              " ('Porto', 'Atletico'),\n",
              " ('Porto', 'Perdedores'),\n",
              " ('Porto', 'Lyon'),\n",
              " ('Roma', 'Manchester'),\n",
              " ('Roma', 'Schalke'),\n",
              " ('Roma', 'Bayer'),\n",
              " ('Roma', 'Liver'),\n",
              " ('Roma', 'Manchester United'),\n",
              " ('Roma', 'PSG'),\n",
              " ('Roma', 'Juve'),\n",
              " ('Roma', 'Atletico'),\n",
              " ('Roma', 'Perdedores'),\n",
              " ('Roma', 'Lyon'),\n",
              " ('Manchester', 'Schalke'),\n",
              " ('Manchester', 'Bayer'),\n",
              " ('Manchester', 'Liver'),\n",
              " ('Manchester', 'Manchester United'),\n",
              " ('Manchester', 'PSG'),\n",
              " ('Manchester', 'Juve'),\n",
              " ('Manchester', 'Atletico'),\n",
              " ('Manchester', 'Perdedores'),\n",
              " ('Manchester', 'Lyon'),\n",
              " ('Schalke', 'Bayer'),\n",
              " ('Schalke', 'Liver'),\n",
              " ('Schalke', 'Manchester United'),\n",
              " ('Schalke', 'PSG'),\n",
              " ('Schalke', 'Juve'),\n",
              " ('Schalke', 'Atletico'),\n",
              " ('Schalke', 'Perdedores'),\n",
              " ('Schalke', 'Lyon'),\n",
              " ('Bayer', 'Liver'),\n",
              " ('Bayer', 'Manchester United'),\n",
              " ('Bayer', 'PSG'),\n",
              " ('Bayer', 'Juve'),\n",
              " ('Bayer', 'Atletico'),\n",
              " ('Bayer', 'Perdedores'),\n",
              " ('Bayer', 'Lyon'),\n",
              " ('Liver', 'Manchester United'),\n",
              " ('Liver', 'PSG'),\n",
              " ('Liver', 'Juve'),\n",
              " ('Liver', 'Atletico'),\n",
              " ('Liver', 'Perdedores'),\n",
              " ('Liver', 'Lyon'),\n",
              " ('Manchester United', 'PSG'),\n",
              " ('Manchester United', 'Juve'),\n",
              " ('Manchester United', 'Atletico'),\n",
              " ('Manchester United', 'Perdedores'),\n",
              " ('Manchester United', 'Lyon'),\n",
              " ('PSG', 'Juve'),\n",
              " ('PSG', 'Atletico'),\n",
              " ('PSG', 'Perdedores'),\n",
              " ('PSG', 'Lyon'),\n",
              " ('Juve', 'Atletico'),\n",
              " ('Juve', 'Perdedores'),\n",
              " ('Juve', 'Lyon'),\n",
              " ('Atletico', 'Perdedores'),\n",
              " ('Atletico', 'Lyon'),\n",
              " ('Perdedores', 'Lyon')]"
            ]
          },
          "metadata": {
            "tags": []
          },
          "execution_count": 69
        }
      ]
    },
    {
      "cell_type": "code",
      "metadata": {
        "id": "0o8JLLmwdv9Q",
        "colab_type": "code",
        "colab": {
          "base_uri": "https://localhost:8080/",
          "height": 34
        },
        "outputId": "f71f4166-7709-4238-83fe-b1b1adb16e8e"
      },
      "source": [
        "len(list(itertools.combinations(('Porto','Roma','Manchester','Schalke','Bayer','Liver','Manchester United','PSG','Juve','Atletico','Perdedores','Lyon'),2)))"
      ],
      "execution_count": 76,
      "outputs": [
        {
          "output_type": "execute_result",
          "data": {
            "text/plain": [
              "66"
            ]
          },
          "metadata": {
            "tags": []
          },
          "execution_count": 76
        }
      ]
    }
  ]
}
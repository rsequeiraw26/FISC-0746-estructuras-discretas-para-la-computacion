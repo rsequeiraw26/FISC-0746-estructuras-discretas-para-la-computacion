{
  "nbformat": 4,
  "nbformat_minor": 0,
  "metadata": {
    "colab": {
      "name": "Lab 08.ipynb",
      "version": "0.3.2",
      "provenance": []
    },
    "kernelspec": {
      "name": "python3",
      "display_name": "Python 3"
    }
  },
  "cells": [
    {
      "cell_type": "code",
      "metadata": {
        "id": "um92daJqgNQ_",
        "colab_type": "code",
        "colab": {}
      },
      "source": [
        "codigo_paises={\"Finland\":\"fi\",\"South Africa\":\"za\",\"Nepal\":\"np\",\"Panama\":\"pa\"}"
      ],
      "execution_count": 0,
      "outputs": []
    },
    {
      "cell_type": "code",
      "metadata": {
        "id": "VetcmcMxg7iL",
        "colab_type": "code",
        "colab": {
          "base_uri": "https://localhost:8080/",
          "height": 34
        },
        "outputId": "d74eda8a-a95d-47f1-bce2-7796e1ce2f94"
      },
      "source": [
        "codigo_paises"
      ],
      "execution_count": 27,
      "outputs": [
        {
          "output_type": "execute_result",
          "data": {
            "text/plain": [
              "{'Finland': 'fi', 'Nepal': 'np', 'Panama': 'pa', 'South Africa': 'za'}"
            ]
          },
          "metadata": {
            "tags": []
          },
          "execution_count": 27
        }
      ]
    },
    {
      "cell_type": "code",
      "metadata": {
        "id": "0VOjH8BLg_ot",
        "colab_type": "code",
        "colab": {
          "base_uri": "https://localhost:8080/",
          "height": 34
        },
        "outputId": "4e1fc456-c930-4d12-b381-934a3a780480"
      },
      "source": [
        "#Tamaño\n",
        "len(codigo_paises)"
      ],
      "execution_count": 28,
      "outputs": [
        {
          "output_type": "execute_result",
          "data": {
            "text/plain": [
              "4"
            ]
          },
          "metadata": {
            "tags": []
          },
          "execution_count": 28
        }
      ]
    },
    {
      "cell_type": "code",
      "metadata": {
        "id": "DR3g4V9mhDGP",
        "colab_type": "code",
        "colab": {
          "base_uri": "https://localhost:8080/",
          "height": 34
        },
        "outputId": "8647c07c-d1e8-47fa-87c4-2e5b20b82199"
      },
      "source": [
        "if codigo_paises:\n",
        "  print(\"El diccionario tiene elementos\")\n",
        "else:\n",
        "  print(\"El diccionario esta vacio\")"
      ],
      "execution_count": 29,
      "outputs": [
        {
          "output_type": "stream",
          "text": [
            "El diccionario tiene elementos\n"
          ],
          "name": "stdout"
        }
      ]
    },
    {
      "cell_type": "code",
      "metadata": {
        "id": "l3Fhmjpuh0sM",
        "colab_type": "code",
        "colab": {
          "base_uri": "https://localhost:8080/",
          "height": 34
        },
        "outputId": "bc56690f-4576-4b0d-f851-27491b2ec6d0"
      },
      "source": [
        "if codigo_paises:\n",
        "  print(\"El diccionario tiene elementos\")\n",
        "else:\n",
        "  print(\"El diccionario esta vacio\")"
      ],
      "execution_count": 76,
      "outputs": [
        {
          "output_type": "stream",
          "text": [
            "El diccionario tiene elementos\n"
          ],
          "name": "stdout"
        }
      ]
    },
    {
      "cell_type": "code",
      "metadata": {
        "id": "p17ob6W9uvMH",
        "colab_type": "code",
        "colab": {}
      },
      "source": [
        "#--------------------------------------------------------------------------------------"
      ],
      "execution_count": 0,
      "outputs": []
    },
    {
      "cell_type": "code",
      "metadata": {
        "id": "TgeE4u2-iro4",
        "colab_type": "code",
        "colab": {
          "base_uri": "https://localhost:8080/",
          "height": 34
        },
        "outputId": "0e34b2ff-984d-4e1a-fe64-98209962a4c3"
      },
      "source": [
        "dias_por_mes = {\"Enero\":31,\"Febrero\":28,\"Marzo\":31}\n",
        "dias_por_mes"
      ],
      "execution_count": 31,
      "outputs": [
        {
          "output_type": "execute_result",
          "data": {
            "text/plain": [
              "{'Enero': 31, 'Febrero': 28, 'Marzo': 31}"
            ]
          },
          "metadata": {
            "tags": []
          },
          "execution_count": 31
        }
      ]
    },
    {
      "cell_type": "code",
      "metadata": {
        "id": "qTv2__XlkMg6",
        "colab_type": "code",
        "colab": {
          "base_uri": "https://localhost:8080/",
          "height": 34
        },
        "outputId": "b1205a3c-d699-4be8-a8b2-df98b1abfd35"
      },
      "source": [
        "dias_por_mes.items()"
      ],
      "execution_count": 32,
      "outputs": [
        {
          "output_type": "execute_result",
          "data": {
            "text/plain": [
              "dict_items([('Enero', 31), ('Febrero', 28), ('Marzo', 31)])"
            ]
          },
          "metadata": {
            "tags": []
          },
          "execution_count": 32
        }
      ]
    },
    {
      "cell_type": "code",
      "metadata": {
        "id": "3qCiqqZ4jb-Z",
        "colab_type": "code",
        "colab": {
          "base_uri": "https://localhost:8080/",
          "height": 68
        },
        "outputId": "c80e8e04-ea05-4c05-e7d6-37f6f4f4260d"
      },
      "source": [
        "for month, days in dias_por_mes.items():\n",
        "  print(f'{month} tiene {days} dias')"
      ],
      "execution_count": 33,
      "outputs": [
        {
          "output_type": "stream",
          "text": [
            "Enero tiene 31 dias\n",
            "Febrero tiene 28 dias\n",
            "Marzo tiene 31 dias\n"
          ],
          "name": "stdout"
        }
      ]
    },
    {
      "cell_type": "code",
      "metadata": {
        "id": "1fPzVbbuu2t4",
        "colab_type": "code",
        "colab": {}
      },
      "source": [
        "#--------------------------------------------------------------------------------------"
      ],
      "execution_count": 0,
      "outputs": []
    },
    {
      "cell_type": "code",
      "metadata": {
        "id": "aeQn0RA-j9CX",
        "colab_type": "code",
        "colab": {
          "base_uri": "https://localhost:8080/",
          "height": 85
        },
        "outputId": "e8910559-3714-4dc8-b17a-93357432be0d"
      },
      "source": [
        "for pais, codig in codigo_paises.items():\n",
        "  print(f'{pais} tiene el codigo {codig} ')"
      ],
      "execution_count": 34,
      "outputs": [
        {
          "output_type": "stream",
          "text": [
            "Finland tiene el codigo fi \n",
            "South Africa tiene el codigo za \n",
            "Nepal tiene el codigo np \n",
            "Panama tiene el codigo pa \n"
          ],
          "name": "stdout"
        }
      ]
    },
    {
      "cell_type": "code",
      "metadata": {
        "id": "BEz5JwNTu5Hp",
        "colab_type": "code",
        "colab": {}
      },
      "source": [
        "#--------------------------------------------------------------------------------------"
      ],
      "execution_count": 0,
      "outputs": []
    },
    {
      "cell_type": "code",
      "metadata": {
        "id": "rnyuahuylDto",
        "colab_type": "code",
        "colab": {
          "base_uri": "https://localhost:8080/",
          "height": 34
        },
        "outputId": "9c304f02-3267-4ece-ad58-2017750847c2"
      },
      "source": [
        "numeros_romanos = {\"I\":1,\"II\":2,\"III\":3,\"V\":5,\"X\":100}\n",
        "numeros_romanos"
      ],
      "execution_count": 36,
      "outputs": [
        {
          "output_type": "execute_result",
          "data": {
            "text/plain": [
              "{'I': 1, 'II': 2, 'III': 3, 'V': 5, 'X': 100}"
            ]
          },
          "metadata": {
            "tags": []
          },
          "execution_count": 36
        }
      ]
    },
    {
      "cell_type": "code",
      "metadata": {
        "id": "395UFVx3mDco",
        "colab_type": "code",
        "colab": {
          "base_uri": "https://localhost:8080/",
          "height": 34
        },
        "outputId": "64ab440a-7bc1-4c4e-a395-5f175ff5464c"
      },
      "source": [
        "numeros_romanos[\"V\"]"
      ],
      "execution_count": 40,
      "outputs": [
        {
          "output_type": "execute_result",
          "data": {
            "text/plain": [
              "5"
            ]
          },
          "metadata": {
            "tags": []
          },
          "execution_count": 40
        }
      ]
    },
    {
      "cell_type": "code",
      "metadata": {
        "id": "_sfHKJRdmLMJ",
        "colab_type": "code",
        "colab": {
          "base_uri": "https://localhost:8080/",
          "height": 34
        },
        "outputId": "65036b92-56ad-44fa-8c60-db3affd62d54"
      },
      "source": [
        "numeros_romanos[\"X\"] = 10\n",
        "numeros_romanos"
      ],
      "execution_count": 51,
      "outputs": [
        {
          "output_type": "execute_result",
          "data": {
            "text/plain": [
              "{'I': 1, 'II': 2, 'III': 3, 'L': 50, 'V': 5, 'X': 10}"
            ]
          },
          "metadata": {
            "tags": []
          },
          "execution_count": 51
        }
      ]
    },
    {
      "cell_type": "code",
      "metadata": {
        "id": "XGwhQh_dmRGI",
        "colab_type": "code",
        "colab": {
          "base_uri": "https://localhost:8080/",
          "height": 34
        },
        "outputId": "84da6543-b605-4ae9-a5de-c6379ce0c6c1"
      },
      "source": [
        "numeros_romanos['L'] = 50\n",
        "numeros_romanos"
      ],
      "execution_count": 42,
      "outputs": [
        {
          "output_type": "execute_result",
          "data": {
            "text/plain": [
              "{'I': 1, 'II': 2, 'III': 3, 'L': 50, 'V': 5, 'X': 10}"
            ]
          },
          "metadata": {
            "tags": []
          },
          "execution_count": 42
        }
      ]
    },
    {
      "cell_type": "code",
      "metadata": {
        "id": "CMAbo0BdnWG5",
        "colab_type": "code",
        "colab": {
          "base_uri": "https://localhost:8080/",
          "height": 34
        },
        "outputId": "b2256f13-321a-4c58-e076-640746a9e59d"
      },
      "source": [
        "numeros_romanos.pop(\"X\")\n",
        "numeros_romanos"
      ],
      "execution_count": 52,
      "outputs": [
        {
          "output_type": "execute_result",
          "data": {
            "text/plain": [
              "{'I': 1, 'II': 2, 'III': 3, 'L': 50, 'V': 5}"
            ]
          },
          "metadata": {
            "tags": []
          },
          "execution_count": 52
        }
      ]
    },
    {
      "cell_type": "code",
      "metadata": {
        "id": "rYmNRLe5oY35",
        "colab_type": "code",
        "colab": {
          "base_uri": "https://localhost:8080/",
          "height": 34
        },
        "outputId": "e2d24b92-7c4a-4975-ab0d-407505af8249"
      },
      "source": [
        "del numeros_romanos['III']\n",
        "numeros_romanos"
      ],
      "execution_count": 53,
      "outputs": [
        {
          "output_type": "execute_result",
          "data": {
            "text/plain": [
              "{'I': 1, 'II': 2, 'L': 50, 'V': 5}"
            ]
          },
          "metadata": {
            "tags": []
          },
          "execution_count": 53
        }
      ]
    },
    {
      "cell_type": "code",
      "metadata": {
        "id": "V5wWfUaao_uo",
        "colab_type": "code",
        "colab": {
          "base_uri": "https://localhost:8080/",
          "height": 163
        },
        "outputId": "b46b3c34-34aa-4fca-abde-f698656dca8e"
      },
      "source": [
        "numeros_romanos['III']"
      ],
      "execution_count": 56,
      "outputs": [
        {
          "output_type": "error",
          "ename": "KeyError",
          "evalue": "ignored",
          "traceback": [
            "\u001b[0;31m---------------------------------------------------------------------------\u001b[0m",
            "\u001b[0;31mKeyError\u001b[0m                                  Traceback (most recent call last)",
            "\u001b[0;32m<ipython-input-56-94951f42b5b0>\u001b[0m in \u001b[0;36m<module>\u001b[0;34m()\u001b[0m\n\u001b[0;32m----> 1\u001b[0;31m \u001b[0mnumeros_romanos\u001b[0m\u001b[0;34m[\u001b[0m\u001b[0;34m'III'\u001b[0m\u001b[0;34m]\u001b[0m\u001b[0;34m\u001b[0m\u001b[0;34m\u001b[0m\u001b[0m\n\u001b[0m",
            "\u001b[0;31mKeyError\u001b[0m: 'III'"
          ]
        }
      ]
    },
    {
      "cell_type": "code",
      "metadata": {
        "id": "VWc3v3e8p5mY",
        "colab_type": "code",
        "colab": {}
      },
      "source": [
        "numeros_romanos.get('III')"
      ],
      "execution_count": 0,
      "outputs": []
    },
    {
      "cell_type": "code",
      "metadata": {
        "id": "Dolb9YD3qGvp",
        "colab_type": "code",
        "colab": {
          "base_uri": "https://localhost:8080/",
          "height": 34
        },
        "outputId": "67409101-34bd-4a84-bf95-d92eb6e1e4a5"
      },
      "source": [
        "numeros_romanos.get('III','III no esta en el diccionario')"
      ],
      "execution_count": 62,
      "outputs": [
        {
          "output_type": "execute_result",
          "data": {
            "text/plain": [
              "'III no esta en el diccionario'"
            ]
          },
          "metadata": {
            "tags": []
          },
          "execution_count": 62
        }
      ]
    },
    {
      "cell_type": "code",
      "metadata": {
        "id": "MQLJvA7HqhmZ",
        "colab_type": "code",
        "colab": {
          "base_uri": "https://localhost:8080/",
          "height": 34
        },
        "outputId": "fdb8bace-61c0-4002-99b1-455d4844ed3a"
      },
      "source": [
        "'V' in numeros_romanos"
      ],
      "execution_count": 63,
      "outputs": [
        {
          "output_type": "execute_result",
          "data": {
            "text/plain": [
              "True"
            ]
          },
          "metadata": {
            "tags": []
          },
          "execution_count": 63
        }
      ]
    },
    {
      "cell_type": "code",
      "metadata": {
        "id": "wHlUIGZyrY7o",
        "colab_type": "code",
        "colab": {
          "base_uri": "https://localhost:8080/",
          "height": 34
        },
        "outputId": "f1649f7d-f057-4f51-c463-ab0c6cfa0b4c"
      },
      "source": [
        "'III' in numeros_romanos"
      ],
      "execution_count": 64,
      "outputs": [
        {
          "output_type": "execute_result",
          "data": {
            "text/plain": [
              "False"
            ]
          },
          "metadata": {
            "tags": []
          },
          "execution_count": 64
        }
      ]
    },
    {
      "cell_type": "code",
      "metadata": {
        "id": "R5aIyrKjrbpY",
        "colab_type": "code",
        "colab": {
          "base_uri": "https://localhost:8080/",
          "height": 34
        },
        "outputId": "bb5456e1-fb5c-4935-c5ee-692518f1fd7f"
      },
      "source": [
        "'III' not in numeros_romanos"
      ],
      "execution_count": 65,
      "outputs": [
        {
          "output_type": "execute_result",
          "data": {
            "text/plain": [
              "True"
            ]
          },
          "metadata": {
            "tags": []
          },
          "execution_count": 65
        }
      ]
    },
    {
      "cell_type": "code",
      "metadata": {
        "id": "-3pLTt52u9Wg",
        "colab_type": "code",
        "colab": {}
      },
      "source": [
        "#--------------------------------------------------------------------------------------"
      ],
      "execution_count": 0,
      "outputs": []
    },
    {
      "cell_type": "code",
      "metadata": {
        "id": "2YwbWTgCreoo",
        "colab_type": "code",
        "colab": {
          "base_uri": "https://localhost:8080/",
          "height": 34
        },
        "outputId": "2b7b425e-da48-49ad-db56-3d18e715cf47"
      },
      "source": [
        "numeros_binarios = {\"1\":1,\"2\":10,\"4\":100,\"5\":101,\"10\":1010}\n",
        "numeros_binarios\n"
      ],
      "execution_count": 72,
      "outputs": [
        {
          "output_type": "execute_result",
          "data": {
            "text/plain": [
              "{'1': 1, '10': 1010, '2': 10, '4': 100, '5': 101}"
            ]
          },
          "metadata": {
            "tags": []
          },
          "execution_count": 72
        }
      ]
    },
    {
      "cell_type": "code",
      "metadata": {
        "id": "Ye4j4V73s4UI",
        "colab_type": "code",
        "colab": {
          "base_uri": "https://localhost:8080/",
          "height": 34
        },
        "outputId": "99f0dd68-3226-4500-84d7-64375fcf35db"
      },
      "source": [
        "numeros_binarios[\"3\"] = 11\n",
        "numeros_binarios"
      ],
      "execution_count": 73,
      "outputs": [
        {
          "output_type": "execute_result",
          "data": {
            "text/plain": [
              "{'1': 1, '10': 1010, '2': 10, '3': 11, '4': 100, '5': 101}"
            ]
          },
          "metadata": {
            "tags": []
          },
          "execution_count": 73
        }
      ]
    },
    {
      "cell_type": "code",
      "metadata": {
        "id": "9Ea2SAe2tQ14",
        "colab_type": "code",
        "colab": {
          "base_uri": "https://localhost:8080/",
          "height": 34
        },
        "outputId": "6d48f9a9-1708-454a-cf20-b8239f28d7f2"
      },
      "source": [
        "numeros_binarios.pop(\"5\")"
      ],
      "execution_count": 74,
      "outputs": [
        {
          "output_type": "execute_result",
          "data": {
            "text/plain": [
              "101"
            ]
          },
          "metadata": {
            "tags": []
          },
          "execution_count": 74
        }
      ]
    },
    {
      "cell_type": "code",
      "metadata": {
        "id": "DCcNSC2NtaOI",
        "colab_type": "code",
        "colab": {
          "base_uri": "https://localhost:8080/",
          "height": 34
        },
        "outputId": "0ba81dc4-7502-4189-942d-f043bd32c5ad"
      },
      "source": [
        "\"9\" in numeros_binarios"
      ],
      "execution_count": 75,
      "outputs": [
        {
          "output_type": "execute_result",
          "data": {
            "text/plain": [
              "False"
            ]
          },
          "metadata": {
            "tags": []
          },
          "execution_count": 75
        }
      ]
    },
    {
      "cell_type": "code",
      "metadata": {
        "id": "qARcky3Vtk45",
        "colab_type": "code",
        "colab": {
          "base_uri": "https://localhost:8080/",
          "height": 102
        },
        "outputId": "f196b052-8e5f-4ab8-cdf5-870f78f3b171"
      },
      "source": [
        "total = 0\n",
        "v = 0\n",
        "prom_final = 0\n",
        "libro_de_notas = {\n",
        "    \"Susana\": [92,85,100],\n",
        "    \"Eduardo\" : [83,95,79],\n",
        "    \"Ariel\" : [91,89,82],\n",
        "    \"Pedro\" : [97,91,92]\n",
        "}\n",
        "\n",
        "totas_las_notas_totales = 0\n",
        "contador_de_notas = 0\n",
        "\n",
        "for nombre, notas in libro_de_notas.items():\n",
        "  for v in notas:\n",
        "    total += v\n",
        "  print(f'{nombre} tiene un promedio de {total / len(notas):.2f}')\n",
        "  prom_final += total\n",
        "  total = 0;\n",
        "print(f'El promedio total del salon es {prom_final/12}')\n",
        "\n",
        " "
      ],
      "execution_count": 100,
      "outputs": [
        {
          "output_type": "stream",
          "text": [
            "Susana tiene un promedio de 92.33\n",
            "Eduardo tiene un promedio de 85.67\n",
            "Ariel tiene un promedio de 87.33\n",
            "Pedro tiene un promedio de 93.33\n",
            "El promedio total del salon es 89.66666666666667\n"
          ],
          "name": "stdout"
        }
      ]
    },
    {
      "cell_type": "code",
      "metadata": {
        "id": "upG1H5zexyIK",
        "colab_type": "code",
        "colab": {}
      },
      "source": [
        ""
      ],
      "execution_count": 0,
      "outputs": []
    }
  ]
}
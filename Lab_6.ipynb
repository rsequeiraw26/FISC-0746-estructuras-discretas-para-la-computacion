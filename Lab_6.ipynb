{
  "nbformat": 4,
  "nbformat_minor": 0,
  "metadata": {
    "colab": {
      "name": "Lab 6.ipynb",
      "version": "0.3.2",
      "provenance": []
    },
    "kernelspec": {
      "name": "python3",
      "display_name": "Python 3"
    }
  },
  "cells": [
    {
      "cell_type": "code",
      "metadata": {
        "id": "voeOjRcUYnA5",
        "colab_type": "code",
        "colab": {}
      },
      "source": [
        "def multi (n,m):\n",
        "  return n*m\n"
      ],
      "execution_count": 0,
      "outputs": []
    },
    {
      "cell_type": "code",
      "metadata": {
        "id": "fsWW8Ug6Zifv",
        "colab_type": "code",
        "colab": {
          "base_uri": "https://localhost:8080/",
          "height": 34
        },
        "outputId": "4b352ffc-d675-41aa-a69c-ede235bd71bf"
      },
      "source": [
        "multi(5,10)"
      ],
      "execution_count": 7,
      "outputs": [
        {
          "output_type": "execute_result",
          "data": {
            "text/plain": [
              "50"
            ]
          },
          "metadata": {
            "tags": []
          },
          "execution_count": 7
        }
      ]
    },
    {
      "cell_type": "code",
      "metadata": {
        "id": "8rEHEPYOeZI7",
        "colab_type": "code",
        "colab": {
          "base_uri": "https://localhost:8080/",
          "height": 34
        },
        "outputId": "e655fb8d-808b-44c8-c303-6d4231b2ec68"
      },
      "source": [
        "num1 = 5\n",
        "num2 = 6\n",
        "print(\"La multiplicacion de \"+str(num1)+\" y \"+str(num2)+\" es \"+str(multi(num1,num2)))"
      ],
      "execution_count": 9,
      "outputs": [
        {
          "output_type": "stream",
          "text": [
            "La multiplicacion de 5 y 6 es 30\n"
          ],
          "name": "stdout"
        }
      ]
    },
    {
      "cell_type": "code",
      "metadata": {
        "id": "GhwA3FGIk6MX",
        "colab_type": "code",
        "colab": {
          "base_uri": "https://localhost:8080/",
          "height": 34
        },
        "outputId": "9629a6d9-9016-4f31-b505-47306711105c"
      },
      "source": [
        "neto = 7.00\n",
        "print(\"Subtotal sin impuesto es %.2f $, el ITBMS es %.2f $ y el total es %.2f $\" %(neto, (multi(compra,0.07)), (multi(compra,1.07))))"
      ],
      "execution_count": 41,
      "outputs": [
        {
          "output_type": "stream",
          "text": [
            "Subtotal sin impuesto es 7.00 $, el ITBMS es 0.49 $ y el total es 7.49 $\n"
          ],
          "name": "stdout"
        }
      ]
    },
    {
      "cell_type": "code",
      "metadata": {
        "id": "OIyCtt1Zo-23",
        "colab_type": "code",
        "colab": {
          "base_uri": "https://localhost:8080/",
          "height": 85
        },
        "outputId": "193220e1-3a1e-4aab-e771-137b62567032"
      },
      "source": [
        "compra = 100.00\n",
        "total = multi(compra,1.07)\n",
        "jubilado = True\n",
        "\n",
        "print(\"El Subtotal es de %.2f$\" %compra)\n",
        "print(\"El Impuesto es de %.2f$\" %multi(compra,0.07))\n",
        "if (jubilado == False):\n",
        "  print(\"El Total de la factura es %.2f$\" %total)\n",
        "else:\n",
        "  print(\"Tiene derecho a descuento(30%%) y es igual a %.2f$\" %(multi(total,0.30)))\n",
        "  print(\"El Total de la factura es %.2f$\" %(total - multi(total,0.30)))"
      ],
      "execution_count": 60,
      "outputs": [
        {
          "output_type": "stream",
          "text": [
            "El Subtotal es de 100.00$\n",
            "El Impuesto es de 7.00$\n",
            "Tiene derecho a descuento(30%) y es igual a 32.10$\n",
            "El Total de la factura es 74.90$\n"
          ],
          "name": "stdout"
        }
      ]
    }
  ]
}